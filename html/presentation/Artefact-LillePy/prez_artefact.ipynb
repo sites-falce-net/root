{
 "cells": [
  {
   "cell_type": "code",
   "execution_count": 1,
   "metadata": {
    "collapsed": false,
    "nbpresent": {
     "id": "0f36d52f-bd6c-4de8-94a6-c149c6e855ae"
    },
    "slideshow": {
     "slide_type": "skip"
    }
   },
   "outputs": [
    {
     "data": {
      "text/html": [
       "<script>\n",
       "code_show=true; \n",
       "function code_toggle() {\n",
       " if (code_show){\n",
       " $('div.input').hide();\n",
       " } else {\n",
       " $('div.input').show();\n",
       " }\n",
       " code_show = !code_show\n",
       "} \n",
       "$( document ).ready(code_toggle);\n",
       "</script>\n",
       "The raw code for this IPython notebook is by default hidden for easier reading.\n",
       "To toggle on/off the raw code, click <a href=\"javascript:code_toggle()\">here</a>."
      ],
      "text/plain": [
       "<IPython.core.display.HTML object>"
      ]
     },
     "execution_count": 1,
     "metadata": {},
     "output_type": "execute_result"
    }
   ],
   "source": [
    "from IPython.display import Image\n",
    "from IPython.core.display import HTML \n",
    "HTML('''<script>\n",
    "code_show=true; \n",
    "function code_toggle() {\n",
    " if (code_show){\n",
    " $('div.input').hide();\n",
    " } else {\n",
    " $('div.input').show();\n",
    " }\n",
    " code_show = !code_show\n",
    "} \n",
    "$( document ).ready(code_toggle);\n",
    "</script>\n",
    "The raw code for this IPython notebook is by default hidden for easier reading.\n",
    "To toggle on/off the raw code, click <a href=\"javascript:code_toggle()\">here</a>.''')\n",
    "\n",
    "# compilation en slides : \n",
    "# jupyter nbconvert prez_artefact.ipynb --to slides --reveal-prefix reveal.js-3.1.0"
   ]
  },
  {
   "cell_type": "markdown",
   "metadata": {
    "nbpresent": {
     "id": "c3ad18a6-bb7f-41b7-856e-ea4d38264d0b"
    },
    "slideshow": {
     "slide_type": "slide"
    }
   },
   "source": [
    "#  Retour d'expérience : Artefact\n",
    "\n",
    "\n",
    "# Meetup Lille.py (26 avril 2017)\n",
    "\n",
    "\n",
    "[Github du projet](https://github.com/bidouilleurslibristes/Artefact)\n",
    "\n",
    "Faire un jeu tangible en python et en mode maker.\n",
    "\n",
    "\n",
    "* Matthieu Falce\n",
    "* Yoann Dufresne \n",
    "* Camille Lihouck \n",
    "* Pierre Marijean\n",
    "* Jordan Bouchoucha\n",
    "* et beaucoup d'autres\n",
    "\n",
    "-------------\n",
    "\n",
    "Association des Bidouilleurs Libristes (ABL)"
   ]
  },
  {
   "cell_type": "markdown",
   "metadata": {
    "nbpresent": {
     "id": "91a14a20-2e28-47f3-b3af-ffedca80347a"
    },
    "slideshow": {
     "slide_type": "slide"
    }
   },
   "source": [
    "\n",
    "## Présentation du projet\n",
    "\n",
    "* Installation interactive ludique. \n",
    "* Enigmes à découvrir et résoudre\n"
   ]
  },
  {
   "cell_type": "code",
   "execution_count": 23,
   "metadata": {
    "collapsed": false,
    "nbpresent": {
     "id": "aa103044-7682-4f96-94a9-5b34779ba5ae"
    },
    "slideshow": {
     "slide_type": "subslide"
    }
   },
   "outputs": [
    {
     "data": {
      "text/html": [
       "\n",
       "<video width=\"600\" controls>\n",
       "  <source src=\"./images/artefact_video.webm\" type=\"video/webm\">\n",
       "</video>\n"
      ],
      "text/plain": [
       "<IPython.core.display.HTML object>"
      ]
     },
     "execution_count": 23,
     "metadata": {},
     "output_type": "execute_result"
    }
   ],
   "source": [
    "HTML(\"\"\"\n",
    "<video width=\"600\" controls>\n",
    "  <source src=\"./images/artefact_video.webm\" type=\"video/webm\">\n",
    "</video>\n",
    "\"\"\")"
   ]
  },
  {
   "cell_type": "code",
   "execution_count": 16,
   "metadata": {
    "collapsed": false,
    "nbpresent": {
     "id": "fde083a2-95d2-4b65-9c7b-55aeac2cc18d"
    },
    "slideshow": {
     "slide_type": "subslide"
    }
   },
   "outputs": [
    {
     "data": {
      "text/html": [
       "<img src=\"./images/artefact-1.jpg\" width=\"300\"/>"
      ],
      "text/plain": [
       "<IPython.core.display.Image object>"
      ]
     },
     "execution_count": 16,
     "metadata": {},
     "output_type": "execute_result"
    }
   ],
   "source": [
    "Image(url= \"./images/artefact-1.jpg\", width=300)"
   ]
  },
  {
   "cell_type": "code",
   "execution_count": 15,
   "metadata": {
    "collapsed": false,
    "nbpresent": {
     "id": "b9b49572-959d-46da-9db2-8883f15f218b"
    },
    "slideshow": {
     "slide_type": "subslide"
    }
   },
   "outputs": [
    {
     "data": {
      "text/html": [
       "<img src=\"./images/artefact-3.jpg\" width=\"800\"/>"
      ],
      "text/plain": [
       "<IPython.core.display.Image object>"
      ]
     },
     "execution_count": 15,
     "metadata": {},
     "output_type": "execute_result"
    }
   ],
   "source": [
    "Image(url= \"./images/artefact-3.jpg\", width=800)"
   ]
  },
  {
   "cell_type": "code",
   "execution_count": 14,
   "metadata": {
    "collapsed": false,
    "nbpresent": {
     "id": "e7e0397c-3242-4ea8-b1f2-f57cccaf2aab"
    },
    "slideshow": {
     "slide_type": "subslide"
    }
   },
   "outputs": [
    {
     "data": {
      "text/html": [
       "<img src=\"./images/artefact-2.jpg\" width=\"800\"/>"
      ],
      "text/plain": [
       "<IPython.core.display.Image object>"
      ]
     },
     "execution_count": 14,
     "metadata": {},
     "output_type": "execute_result"
    }
   ],
   "source": [
    "Image(url= \"./images/artefact-2.jpg\", width=800)"
   ]
  },
  {
   "cell_type": "markdown",
   "metadata": {
    "nbpresent": {
     "id": "794ba509-a09d-4ce2-8665-fb3e9c31c50a"
    },
    "slideshow": {
     "slide_type": "slide"
    }
   },
   "source": [
    "# Aspect technique \n",
    "\n",
    "_Pouvoir débrancher n'importe quel cable, le rebrancher et le jeu se relance_"
   ]
  },
  {
   "cell_type": "markdown",
   "metadata": {
    "nbpresent": {
     "id": "24734c41-836b-46e5-919e-c3c0d6eb8e08"
    },
    "slideshow": {
     "slide_type": "slide"
    }
   },
   "source": [
    "## Matériel\n",
    "\n",
    " * Arduino * 8 (gestion des entrées / sorties)\n",
    " * Raspberry pi * 3 (gestion du jeu et des communications)\n",
    " * entrée / sortie (80 boutons + 80 leds + 8 rubans de 32 leds)\n",
    " * alimentation par cable internet (PoE) "
   ]
  },
  {
   "cell_type": "markdown",
   "metadata": {
    "nbpresent": {
     "id": "0f99584b-6fdc-4c53-b8c6-01deb3d873a4"
    },
    "slideshow": {
     "slide_type": "slide"
    }
   },
   "source": [
    "## Logiciel\n",
    "\n",
    "\n",
    "  "
   ]
  },
  {
   "cell_type": "markdown",
   "metadata": {
    "nbpresent": {
     "id": "d8b44a81-2008-4c59-854f-b9a04c8dda8a"
    },
    "slideshow": {
     "slide_type": "subslide"
    }
   },
   "source": [
    " * Codé en python3 (pas d'asyncio)\n",
    " * Multiplateforme\n",
    " * Installation / déploiement avec Ansible"
   ]
  },
  {
   "cell_type": "markdown",
   "metadata": {
    "nbpresent": {
     "id": "b11ec9ea-74ef-4006-8c7e-4a946ddedaab"
    },
    "slideshow": {
     "slide_type": "notes"
    }
   },
   "source": [
    "Ansible\n",
    " * ultra simple de faire une nouvelle installation quand on change de raspi\n",
    " * problèmes quand pas internet, il faut prévoir ce cas (module `copy`)\n",
    " * relation amour / haine avec Ansible"
   ]
  },
  {
   "cell_type": "markdown",
   "metadata": {
    "nbpresent": {
     "id": "5a44fdb0-e096-424e-8aa7-fb86db5f500b"
    },
    "slideshow": {
     "slide_type": "subslide"
    }
   },
   "source": [
    "### Architecture\n",
    "\n",
    "* Réseau maître (gère la logique) <-> esclaves (connectés aux arduino) \n",
    "* Communication réseau par ZMQ\n",
    "* Avahi (linux) pour DNS local\n",
    "* raspi <-> arduino : communicaion série (pySerial) + protocole custom (noms + reconnections)\n"
   ]
  },
  {
   "cell_type": "markdown",
   "metadata": {
    "nbpresent": {
     "id": "5cf81c55-104c-4645-bb37-0c5f03cdea85"
    },
    "slideshow": {
     "slide_type": "fragment"
    }
   },
   "source": [
    "![Architecture réseau](./images/Network_archi_artefact.png)\n"
   ]
  },
  {
   "cell_type": "markdown",
   "metadata": {
    "nbpresent": {
     "id": "b644c6a2-857c-4a0a-82da-ee5a0116e5b1"
    },
    "slideshow": {
     "slide_type": "subslide"
    }
   },
   "source": [
    "** ZMQ + Matthieu = 💖 ** \n",
    " * reconnexions automatiques\n",
    " * PUB / SUB => simplifie le paramétrage / on peut perdre des messages... \n",
    " * ZMQc => envoie / écoute de messages"
   ]
  },
  {
   "cell_type": "markdown",
   "metadata": {
    "nbpresent": {
     "id": "95982270-3bd8-40d8-9cc2-ed92be2a593d"
    },
    "slideshow": {
     "slide_type": "notes"
    }
   },
   "source": [
    " * WEB SCALABLE \\o/ \n",
    " * ajout simple d'un esclave\n",
    " * possibilité d'espionner master -> esclave\n",
    " * simulation de matériel => messages customs"
   ]
  },
  {
   "cell_type": "markdown",
   "metadata": {
    "nbpresent": {
     "id": "e0378390-cbac-41cb-8329-9a96613c4d03"
    },
    "slideshow": {
     "slide_type": "slide"
    }
   },
   "source": [
    "  \n",
    "### Jeu\n",
    "\n",
    " * une partie => série d'énigmes composées d'une ou plusieurs sous-enigmes \n",
    " * 1 bouton géré par seulement 1 sous-enigme\n",
    " * rubans gérés par plusieurs sous-enigmes\n",
    " \n",
    " -------------------------------\n",
    " \n",
    " * logique en python (avec les micro-services ZMQ, pourrait être en autre chose)\n",
    " * abstraction du matériel / page web (Flask) => développer sans installation complète "
   ]
  },
  {
   "cell_type": "markdown",
   "metadata": {
    "nbpresent": {
     "id": "f7d0d3a2-52fb-4070-95b5-1a256c3dd4b5"
    },
    "slideshow": {
     "slide_type": "fragment"
    }
   },
   "source": [
    "💔\n",
    "\n",
    "* typage dynamique (bug à l'éxecution...)\n",
    "* problème pour faire des enigmes temporelles (résolu par asyncio ?)\n",
    "* essai de lecture de musiques en python => échec complet (problèmes de son et de grésillements, probablement dus au GIL...)\n",
    "* difficulté de conceptions des énigmes"
   ]
  },
  {
   "cell_type": "markdown",
   "metadata": {
    "nbpresent": {
     "id": "1506a1d1-8752-4d40-897f-d9c1d8666d2e"
    },
    "slideshow": {
     "slide_type": "slide"
    }
   },
   "source": [
    "### Analyse des parties\n",
    "\n",
    " * logs rajouté le 2ème jour\n",
    " * surveiller la partie en cours sans rentrer dans la salle\n",
    " * déséquilibres dans le jeu\n",
    " * \"replay\" des parties\n"
   ]
  },
  {
   "cell_type": "markdown",
   "metadata": {
    "slideshow": {
     "slide_type": "subslide"
    }
   },
   "source": [
    "#### Débug live / haut niveau : \n",
    "\n",
    "proTip 🔬 : watch -n 5 \"python parse_log.py game_log/7.log\"\n",
    "\n",
    "    Fichier : c:\\Users\\falce\\Downloads\\zoomachine\\ZooMachine-3\\master\\game_log/7.log\n",
    "    unknown event:reboot\n",
    "    durée totale (hh:mm:ss) : 0:39:44.569086\n",
    "      * enigme 0 résolue en 0:00:00 (hh:mm:ss) / 0 erreurs\n",
    "      * enigme 1 résolue en 0:00:46.106088 (hh:mm:ss) / 0 erreurs\n",
    "      * enigme 2 résolue en 0:00:24.634655 (hh:mm:ss) / 4 erreurs\n",
    "      * enigme 3 résolue en 0:00:18.149378 (hh:mm:ss) / 1 erreurs\n",
    "      * enigme 4 résolue en 0:00:10.015720 (hh:mm:ss) / 0 erreurs\n",
    "      * enigme 5 résolue en 0:00:32.694306 (hh:mm:ss) / 1 erreurs\n",
    "      * enigme 6 résolue en 0:04:58.726424 (hh:mm:ss) / 18 erreurs\n",
    "      * enigme 7 résolue en 0:01:34.790013 (hh:mm:ss) / 6 erreurs\n",
    "      * enigme 8 résolue en 0:05:21.960151 (hh:mm:ss) / 13 erreurs\n",
    "      * enigme 9 résolue en 0:06:34.323552 (hh:mm:ss) / 7 erreurs\n",
    "      * enigme 10 résolue en 0:00:09.616676 (hh:mm:ss) / 0 erreurs\n",
    "      * enigme 11 résolue en 0:00:06.726740 (hh:mm:ss) / 0 erreurs\n",
    "      * enigme 12 résolue en 0:00:44.977521 (hh:mm:ss) / 3 erreurs\n",
    "      * enigme 13 résolue en 0:03:53.741781 (hh:mm:ss) / 12 erreurs\n",
    "      * enigme 14 résolue en 0:01:11.693027 (hh:mm:ss) / 0 erreurs\n",
    "      * enigme 15 résolue en 0:01:13.598689 (hh:mm:ss) / 2 erreurs\n",
    "      * enigme 16 résolue en 0:05:32.754788 (hh:mm:ss) / 11 erreurs\n",
    "      * enigme 17 résolue en 0:01:04.828428 (hh:mm:ss) / 1 erreurs\n",
    "      * enigme 18 résolue en 0:03:37.717643 (hh:mm:ss) / 1 erreurs\n"
   ]
  },
  {
   "cell_type": "markdown",
   "metadata": {
    "slideshow": {
     "slide_type": "subslide"
    }
   },
   "source": [
    "#### Analyse plus fine\n",
    "\n",
    "Stack utilisée : \n",
    " * pandas\n",
    " * matplotlib / seaborn"
   ]
  },
  {
   "cell_type": "markdown",
   "metadata": {
    "slideshow": {
     "slide_type": "subslide"
    }
   },
   "source": [
    "![Analyse globale](./images/analysis-1.png)"
   ]
  },
  {
   "cell_type": "markdown",
   "metadata": {
    "slideshow": {
     "slide_type": "subslide"
    }
   },
   "source": [
    "![Pourcentage de continuation](./images/analysis-2.png)"
   ]
  },
  {
   "cell_type": "markdown",
   "metadata": {
    "slideshow": {
     "slide_type": "subslide"
    }
   },
   "source": [
    "![Analyse erreurs différentes enigmes](./images/analysis-3.png)"
   ]
  },
  {
   "cell_type": "markdown",
   "metadata": {
    "nbpresent": {
     "id": "1fd38fd9-74b3-4a08-9940-4b04b561e578"
    },
    "slideshow": {
     "slide_type": "slide"
    }
   },
   "source": [
    "# Conclusion\n",
    "\n",
    " * le projet à été un succès\n",
    "  * au niveau technique => ça fonctionne\n",
    "  * au niveau ludique => ça plait aux joueurs\n",
    "  * n'a pas planté en production"
   ]
  },
  {
   "cell_type": "markdown",
   "metadata": {
    "collapsed": true,
    "nbpresent": {
     "id": "a48785d4-ffb4-4523-b7df-f834aa43c2c3"
    },
    "slideshow": {
     "slide_type": "subslide"
    }
   },
   "source": [
    "** On peut débrancher n'importe quel cable, le rebrancher en continuant à marcher. **\n",
    "\n",
    "\n",
    "* penser au pire (en étant réaliste)\n",
    "* pouvoir débugguer facilement ses \"microservices\"\n",
    "* utiliser / créer des outils et méthodes pour débugguer\n",
    "* se demander \"Comment je peux débugguer ça ?\" pour chaque choix (espionnage, simulation, abstraction matériel...)"
   ]
  },
  {
   "cell_type": "markdown",
   "metadata": {
    "nbpresent": {
     "id": "bb4d05b7-8e3f-44cf-9d9c-ebef61866823"
    },
    "slideshow": {
     "slide_type": "subslide"
    }
   },
   "source": [
    " * python n'a pas été trop problématique \n",
    "  * 👍 code \"compréhensible\"\n",
    "  * 👍 multiplateforme \"accidentel\"\n",
    "  * 👍 écosystème mature et robuste (ipdb 💖)\n",
    "  * 👍 flexible (faire tourner une appli flask dans une thread)\n",
    "  * 😱 dynamicité et des \"surprises\" à l'exécution\n",
    "  * 😱 gestion des threads (je ne sais pas les fermer, besoin de 6 ctrl-C pour killer le programme...)\n",
    "  * 😱 audio => il faudrait regarder plus dans les détails\n",
    "\n",
    "----------------------------\n",
    "\n",
    " * services => systemd "
   ]
  },
  {
   "cell_type": "markdown",
   "metadata": {
    "nbpresent": {
     "id": "4a4bc557-baec-4cfc-a4d7-13f3fde617d8"
    },
    "slideshow": {
     "slide_type": "subslide"
    }
   },
   "source": [
    " * à venir (peut-être)\n",
    "  * tests unitaires / d'intégration\n",
    "  * documentation\n",
    "  * pyrasite pour shell live"
   ]
  }
 ],
 "metadata": {
  "anaconda-cloud": {},
  "celltoolbar": "Slideshow",
  "kernelspec": {
   "display_name": "Python [conda root]",
   "language": "python",
   "name": "conda-root-py"
  },
  "language_info": {
   "codemirror_mode": {
    "name": "ipython",
    "version": 3
   },
   "file_extension": ".py",
   "mimetype": "text/x-python",
   "name": "python",
   "nbconvert_exporter": "python",
   "pygments_lexer": "ipython3",
   "version": "3.5.2"
  },
  "nbpresent": {
   "slides": {
    "06076e14-c1b0-4216-b5c3-df474d554c0c": {
     "id": "06076e14-c1b0-4216-b5c3-df474d554c0c",
     "prev": "dc95e02a-5825-4b4d-af12-3a6f49234e9f",
     "regions": {
      "2c9d6761-9ac6-464a-b3e2-34334e6cc6a7": {
       "attrs": {
        "height": 0.8,
        "width": 0.8,
        "x": 0.1,
        "y": 0.1
       },
       "content": {
        "cell": "d8b44a81-2008-4c59-854f-b9a04c8dda8a",
        "part": "whole"
       },
       "id": "2c9d6761-9ac6-464a-b3e2-34334e6cc6a7"
      }
     }
    },
    "0c37589d-88e3-43b9-b735-7df319b2b2f5": {
     "id": "0c37589d-88e3-43b9-b735-7df319b2b2f5",
     "prev": "37f6030b-018c-4fa1-a879-e222055351f3",
     "regions": {
      "f0e6ecde-43d0-4c67-9f43-c83782747f35": {
       "attrs": {
        "height": 0.8,
        "width": 0.8,
        "x": 0.1,
        "y": 0.1
       },
       "content": {
        "cell": "4a4bc557-baec-4cfc-a4d7-13f3fde617d8",
        "part": "whole"
       },
       "id": "f0e6ecde-43d0-4c67-9f43-c83782747f35"
      }
     }
    },
    "151f92f5-d89d-4135-9493-391e0c6de9f3": {
     "id": "151f92f5-d89d-4135-9493-391e0c6de9f3",
     "prev": "9ee15454-fb3a-4183-b674-02eef578b315",
     "regions": {
      "a11232fe-91c1-46b1-bd36-5db07d58888a": {
       "attrs": {
        "height": 0.4,
        "width": 0.8,
        "x": 0.1,
        "y": 0.5
       },
       "content": {
        "cell": "f7d0d3a2-52fb-4070-95b5-1a256c3dd4b5",
        "part": "whole"
       },
       "id": "a11232fe-91c1-46b1-bd36-5db07d58888a"
      },
      "a87bb87b-d17c-4a85-b570-9744ea8fb4a1": {
       "attrs": {
        "height": 0.8,
        "width": 0.8,
        "x": 0.1,
        "y": 0.1
       },
       "content": {
        "cell": "e0378390-cbac-41cb-8329-9a96613c4d03",
        "part": "whole"
       },
       "id": "a87bb87b-d17c-4a85-b570-9744ea8fb4a1"
      }
     }
    },
    "2a85f816-b6f9-406f-a705-2b08fdd46588": {
     "id": "2a85f816-b6f9-406f-a705-2b08fdd46588",
     "prev": "f568c5ee-0247-4b97-a068-acc17d53df93",
     "regions": {
      "e3c80e1f-89bb-4696-b331-5eb30e6ecd28": {
       "attrs": {
        "height": 0.8,
        "width": 0.8,
        "x": 0.1,
        "y": 0.1
       },
       "content": {
        "cell": "794ba509-a09d-4ce2-8665-fb3e9c31c50a",
        "part": "whole"
       },
       "id": "e3c80e1f-89bb-4696-b331-5eb30e6ecd28"
      }
     }
    },
    "37f6030b-018c-4fa1-a879-e222055351f3": {
     "id": "37f6030b-018c-4fa1-a879-e222055351f3",
     "prev": "a967675f-af58-4b1e-ba9a-7479a9175ca9",
     "regions": {
      "570fb65c-2281-42fd-8bcc-2f5a24ef7c45": {
       "attrs": {
        "height": 0.8,
        "width": 0.8,
        "x": 0.1,
        "y": 0.1
       },
       "content": {
        "cell": "bb4d05b7-8e3f-44cf-9d9c-ebef61866823",
        "part": "whole"
       },
       "id": "570fb65c-2281-42fd-8bcc-2f5a24ef7c45"
      }
     }
    },
    "4ac80278-65d7-4156-99ce-c68bc620e0b8": {
     "id": "4ac80278-65d7-4156-99ce-c68bc620e0b8",
     "prev": "91da27bd-fa74-46bc-8c74-2b52bd689173",
     "regions": {
      "f59c1d2d-1c85-44b3-879a-e7ef75755f65": {
       "attrs": {
        "height": 0.8,
        "width": 0.8,
        "x": 0.1,
        "y": 0.1
       },
       "content": {
        "cell": "fde083a2-95d2-4b65-9c7b-55aeac2cc18d",
        "part": "whole"
       },
       "id": "f59c1d2d-1c85-44b3-879a-e7ef75755f65"
      }
     }
    },
    "7032d809-a81d-4a27-91b3-f6330be8ac89": {
     "id": "7032d809-a81d-4a27-91b3-f6330be8ac89",
     "prev": "151f92f5-d89d-4135-9493-391e0c6de9f3",
     "regions": {
      "90eab2a2-b41f-4eb4-82a7-199bc6522bb6": {
       "attrs": {
        "height": 0.8,
        "width": 0.8,
        "x": 0.1,
        "y": 0.1
       },
       "content": {
        "cell": "1506a1d1-8752-4d40-897f-d9c1d8666d2e",
        "part": "whole"
       },
       "id": "90eab2a2-b41f-4eb4-82a7-199bc6522bb6"
      }
     }
    },
    "7b8373a6-14cb-454e-bd5c-098bdfcc0c1a": {
     "id": "7b8373a6-14cb-454e-bd5c-098bdfcc0c1a",
     "prev": "7032d809-a81d-4a27-91b3-f6330be8ac89",
     "regions": {
      "4ba7ecbf-92a5-41dd-9f0f-da2661fc5e30": {
       "attrs": {
        "height": 0.8,
        "width": 0.8,
        "x": 0.1,
        "y": 0.1
       },
       "content": {
        "cell": "1fd38fd9-74b3-4a08-9940-4b04b561e578",
        "part": "whole"
       },
       "id": "4ba7ecbf-92a5-41dd-9f0f-da2661fc5e30"
      }
     }
    },
    "7d3ed52e-d926-4a9e-887c-d2e8332b9bc9": {
     "id": "7d3ed52e-d926-4a9e-887c-d2e8332b9bc9",
     "prev": "2a85f816-b6f9-406f-a705-2b08fdd46588",
     "regions": {
      "64fb7e03-352a-48f4-8b97-17db6b70571d": {
       "attrs": {
        "height": 0.8,
        "width": 0.8,
        "x": 0.1,
        "y": 0.1
       },
       "content": {
        "cell": "24734c41-836b-46e5-919e-c3c0d6eb8e08",
        "part": "whole"
       },
       "id": "64fb7e03-352a-48f4-8b97-17db6b70571d"
      }
     }
    },
    "91da27bd-fa74-46bc-8c74-2b52bd689173": {
     "id": "91da27bd-fa74-46bc-8c74-2b52bd689173",
     "prev": "bc4fadb0-f996-4a57-88f4-caef00999fcc",
     "regions": {
      "cbf2a596-5539-4840-bcb1-65f9a38a600c": {
       "attrs": {
        "height": 0.8,
        "width": 0.8,
        "x": 0.1,
        "y": 0.1
       },
       "content": {
        "cell": "aa103044-7682-4f96-94a9-5b34779ba5ae",
        "part": "whole"
       },
       "id": "cbf2a596-5539-4840-bcb1-65f9a38a600c"
      }
     }
    },
    "9ee15454-fb3a-4183-b674-02eef578b315": {
     "id": "9ee15454-fb3a-4183-b674-02eef578b315",
     "prev": "b3dba67a-3d45-402e-8d55-97353cfd4ab0",
     "regions": {
      "485990fc-3b08-45b5-bf12-e9998bf8cd6c": {
       "attrs": {
        "height": 0.8,
        "width": 0.8,
        "x": 0.1,
        "y": 0.1
       },
       "content": {
        "cell": "b644c6a2-857c-4a0a-82da-ee5a0116e5b1",
        "part": "whole"
       },
       "id": "485990fc-3b08-45b5-bf12-e9998bf8cd6c"
      }
     }
    },
    "a967675f-af58-4b1e-ba9a-7479a9175ca9": {
     "id": "a967675f-af58-4b1e-ba9a-7479a9175ca9",
     "prev": "7b8373a6-14cb-454e-bd5c-098bdfcc0c1a",
     "regions": {
      "93c56da1-4c6c-41e5-85ad-e4599a0e870a": {
       "attrs": {
        "height": 0.8,
        "width": 0.8,
        "x": 0.1,
        "y": 0.1
       },
       "content": {
        "cell": "a48785d4-ffb4-4523-b7df-f834aa43c2c3",
        "part": "whole"
       },
       "id": "93c56da1-4c6c-41e5-85ad-e4599a0e870a"
      }
     }
    },
    "b3dba67a-3d45-402e-8d55-97353cfd4ab0": {
     "id": "b3dba67a-3d45-402e-8d55-97353cfd4ab0",
     "prev": "06076e14-c1b0-4216-b5c3-df474d554c0c",
     "regions": {
      "8c6b08f5-3b07-44f3-9a60-c275aca6b179": {
       "attrs": {
        "height": 0.8,
        "width": 0.8,
        "x": 0.1,
        "y": 0.1
       },
       "content": {
        "cell": "5a44fdb0-e096-424e-8aa7-fb86db5f500b",
        "part": "whole"
       },
       "id": "8c6b08f5-3b07-44f3-9a60-c275aca6b179"
      },
      "d1b93fab-d7bb-4f41-98c9-e50b726a06a5": {
       "attrs": {
        "height": 0.4,
        "width": 0.8,
        "x": 0.1,
        "y": 0.5
       },
       "content": {
        "cell": "5cf81c55-104c-4645-bb37-0c5f03cdea85",
        "part": "whole"
       },
       "id": "d1b93fab-d7bb-4f41-98c9-e50b726a06a5"
      }
     }
    },
    "bc4fadb0-f996-4a57-88f4-caef00999fcc": {
     "id": "bc4fadb0-f996-4a57-88f4-caef00999fcc",
     "prev": null,
     "regions": {
      "9b8dc48c-4709-46ae-ab49-804d36ccf8a5": {
       "attrs": {
        "height": 0.8,
        "width": 0.8,
        "x": 0.1,
        "y": 0.1
       },
       "content": {
        "cell": "91a14a20-2e28-47f3-b3af-ffedca80347a",
        "part": "whole"
       },
       "id": "9b8dc48c-4709-46ae-ab49-804d36ccf8a5"
      }
     }
    },
    "d301dd71-4ce8-4e93-b7e5-f376894a095d": {
     "id": "d301dd71-4ce8-4e93-b7e5-f376894a095d",
     "prev": "4ac80278-65d7-4156-99ce-c68bc620e0b8",
     "regions": {
      "5ea3c4cf-05cd-4e53-9b3c-ff47ddc5d856": {
       "attrs": {
        "height": 0.8,
        "width": 0.8,
        "x": 0.1,
        "y": 0.1
       },
       "content": {
        "cell": "b9b49572-959d-46da-9db2-8883f15f218b",
        "part": "whole"
       },
       "id": "5ea3c4cf-05cd-4e53-9b3c-ff47ddc5d856"
      }
     }
    },
    "dc95e02a-5825-4b4d-af12-3a6f49234e9f": {
     "id": "dc95e02a-5825-4b4d-af12-3a6f49234e9f",
     "prev": "7d3ed52e-d926-4a9e-887c-d2e8332b9bc9",
     "regions": {
      "25619a31-2f92-4f71-a1a2-e1996ddeff87": {
       "attrs": {
        "height": 0.8,
        "width": 0.8,
        "x": 0.1,
        "y": 0.1
       },
       "content": {
        "cell": "0f99584b-6fdc-4c53-b8c6-01deb3d873a4",
        "part": "whole"
       },
       "id": "25619a31-2f92-4f71-a1a2-e1996ddeff87"
      }
     }
    },
    "f568c5ee-0247-4b97-a068-acc17d53df93": {
     "id": "f568c5ee-0247-4b97-a068-acc17d53df93",
     "prev": "d301dd71-4ce8-4e93-b7e5-f376894a095d",
     "regions": {
      "1cf26cc0-8850-4fe5-bccc-7c4f78d7a226": {
       "attrs": {
        "height": 0.8,
        "width": 0.8,
        "x": 0.1,
        "y": 0.1
       },
       "content": {
        "cell": "e7e0397c-3242-4ea8-b1f2-f57cccaf2aab",
        "part": "whole"
       },
       "id": "1cf26cc0-8850-4fe5-bccc-7c4f78d7a226"
      }
     }
    }
   },
   "themes": {
    "default": "5d3fdced-00ae-4f6f-8d9a-aa5e4820c3c1",
    "theme": {}
   }
  }
 },
 "nbformat": 4,
 "nbformat_minor": 1
}
